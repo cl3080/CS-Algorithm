{
 "cells": [
  {
   "cell_type": "markdown",
   "id": "c3841bf4",
   "metadata": {},
   "source": [
    "Singly Linked List"
   ]
  },
  {
   "cell_type": "code",
   "execution_count": 1,
   "id": "bc08daa7",
   "metadata": {},
   "outputs": [],
   "source": [
    "class ListNode:\n",
    "    def __init__(self, x):\n",
    "        self.val = x\n",
    "        self.next = None"
   ]
  },
  {
   "cell_type": "markdown",
   "id": "3aead88b",
   "metadata": {},
   "source": [
    "Double Linked List"
   ]
  },
  {
   "cell_type": "code",
   "execution_count": 2,
   "id": "419c5ad0",
   "metadata": {},
   "outputs": [],
   "source": [
    "class Node:\n",
    "    def __init__(self, prev, val, next):\n",
    "        self.val = val\n",
    "        self.next = next\n",
    "        self.prev = prev"
   ]
  },
  {
   "cell_type": "markdown",
   "id": "3245fab7",
   "metadata": {},
   "source": [
    "Compared with array, linked lists are less rigid in storage and nodes are usually not stored in contiguous locations. They rely on next pointers to give reference to the next element.\n",
    "- For array, insertion / deletion at middle take o(n) time. For linked lists:  \n",
    " - Singly Linked List:\n",
    "   - Insertion at beginning: O(1), at end: O(n), at a specific position: O(n)\n",
    "   - Deletion at beginning: O(1), at end: O(n), at a specific position: O(n)\n",
    " - Double Linked List:\n",
    "   - Insertion at beginning: O(1), at end: **O(1)** (if we maintain a tail pointer), at a specific position: O(n)\n",
    "   - Deletion at beginning: O(1), at end: O(1), at a specific position: O(n) \n",
    "  \n",
    "Auxiliary space is O(1) for linked list."
   ]
  },
  {
   "cell_type": "markdown",
   "id": "4fe5a8b1",
   "metadata": {},
   "source": [
    "### Two Pointers"
   ]
  },
  {
   "cell_type": "markdown",
   "id": "9ab04b9b",
   "metadata": {},
   "source": [
    "#### Detect Cycles"
   ]
  },
  {
   "cell_type": "markdown",
   "id": "a1c80609",
   "metadata": {},
   "source": [
    "Have two pointers: slow and fast. At each iteration, slow pointer will move forward by one step, fast pointer will move forward by two steps. If there is a cycle within the linked list, slow pointer will meet fast pointer (Note: not necessary the intersection point).\n",
    "\n",
    "Proof:\n",
    "- If no cycle, fast pointer will reach to end and return False. \n",
    "- If has cycle, fast pointer will move 1 more step at each step, eventually the distance difference between fast and slow pointers will be the length of the cycle C. Two pointers meet within the cycle."
   ]
  },
  {
   "cell_type": "markdown",
   "id": "1b73dd10",
   "metadata": {},
   "source": [
    "#### Find entry of the cycle"
   ]
  },
  {
   "cell_type": "markdown",
   "id": "7919c9fc",
   "metadata": {},
   "source": [
    "Floyd's Algorithm\n",
    "\n",
    "Step 1: Initialize two pointers: slow and fast, pointing to the head\n",
    "Step 2: Move slow one step and fast two steps at a time until they meet\n",
    "Step 3: Reset fast pointer to the head of the linked list\n",
    "Step 4: Move both pointers one step at a time until they meet again. The point where they meet is the node where the cycle begins.\n",
    "\n",
    "Proof:\n",
    "- a: length before the cycle\n",
    "- b: length from the cycle entrance to the first meeting point within the cycle\n",
    "- c: cycle length\n",
    "\n",
    "The first time two pointers meet: 2 * (a + b) = a + b + k * c --> a + b = k * c\n",
    "\n",
    "The second time two pointers meet will be at the entrance because:\n",
    "from start to entrance, fast pointer moves: a steps\n",
    "from first meeting point to entrance, slow pointer moves: k * c - b\n",
    "\n",
    "a is equal to k * c - b, both pointers moves same steps and meet at the entrance."
   ]
  },
  {
   "cell_type": "markdown",
   "id": "172debe1",
   "metadata": {},
   "source": [
    "LC 141: https://leetcode.com/problems/linked-list-cycle/description/  \n",
    "LC 142: https://leetcode.com/problems/linked-list-cycle-ii/"
   ]
  },
  {
   "cell_type": "code",
   "execution_count": 5,
   "id": "0996f27b",
   "metadata": {},
   "outputs": [],
   "source": [
    "class ListNode:\n",
    "     def __init__(self, x):\n",
    "        self.val = x\n",
    "        self.next = None\n",
    "\n",
    "class Solution:\n",
    "    def hasCycle(self, head) -> bool:\n",
    "        if not head or not head.next:\n",
    "            return False\n",
    "        \n",
    "        slow, fast = head, head\n",
    "        while fast and fast.next:\n",
    "            slow = slow.next\n",
    "            fast = fast.next.next\n",
    "            if slow == fast:\n",
    "                return True\n",
    "        return False"
   ]
  },
  {
   "cell_type": "code",
   "execution_count": 7,
   "id": "4ed1ba09",
   "metadata": {},
   "outputs": [],
   "source": [
    "class Solution:\n",
    "    def detectCycle(self, head):\n",
    "        slow, fast = head, head\n",
    "        has_cycle = False\n",
    "        while fast and fast.next:\n",
    "            slow = slow.next\n",
    "            fast = fast.next.next\n",
    "            if slow == fast:\n",
    "                has_cycle = True\n",
    "                break\n",
    "\n",
    "        if not has_cycle:\n",
    "            return None\n",
    "        \n",
    "        fast = head\n",
    "        while fast != slow:\n",
    "            slow = slow.next\n",
    "            fast = fast.next\n",
    "        \n",
    "        return slow"
   ]
  },
  {
   "cell_type": "markdown",
   "id": "a76c5dab",
   "metadata": {},
   "source": [
    "#### Find Middle Nodes"
   ]
  },
  {
   "cell_type": "markdown",
   "id": "d62bad80",
   "metadata": {},
   "source": [
    "Have two pointers: slow and fast, slow moves one step at a time and fast moves two step at a time. When fast pointer reaches to the end, slow pointer is pointing at the middle.\n",
    "Note, if there are even nodes, slow will return the second middle nodes when using condition: while fast and fast.next"
   ]
  },
  {
   "cell_type": "code",
   "execution_count": 9,
   "id": "2d9fd235",
   "metadata": {},
   "outputs": [],
   "source": [
    "class Solution:\n",
    "    def middleNode(self, head):\n",
    "        if not head or not head.next:\n",
    "            return head\n",
    "        \n",
    "        slow, fast = head, head\n",
    "        while fast and fast.next:\n",
    "            slow = slow.next\n",
    "            fast = fast.next.next\n",
    "        \n",
    "        return slow"
   ]
  },
  {
   "cell_type": "markdown",
   "id": "6c47f196",
   "metadata": {},
   "source": [
    "#### Partition List"
   ]
  },
  {
   "cell_type": "markdown",
   "id": "3e08bd0a",
   "metadata": {},
   "source": [
    "LC 86: Partition List  \n",
    "https://leetcode.com/problems/partition-list/description/"
   ]
  },
  {
   "cell_type": "code",
   "execution_count": 10,
   "id": "fa4d23a1",
   "metadata": {},
   "outputs": [],
   "source": [
    "class Solution:\n",
    "    def partition(self, head, x: int):\n",
    "        small_dummy, large_dummy = ListNode(-1), ListNode(-1)\n",
    "        small, large = small_dummy, large_dummy\n",
    "        \n",
    "        curr = head\n",
    "        while curr:\n",
    "            if curr.val < x:\n",
    "                small.next = curr\n",
    "                small = small.next\n",
    "            else:\n",
    "                large.next = curr\n",
    "                large = large.next\n",
    "            nxt = curr.next\n",
    "            curr.next = None\n",
    "            curr = nxt\n",
    "        \n",
    "        small.next = large_dummy.next\n",
    "        return small_dummy.next"
   ]
  },
  {
   "cell_type": "markdown",
   "id": "ae2a3ee2",
   "metadata": {},
   "source": [
    "LC 328: Odd Even Linked List   \n",
    "https://leetcode.com/problems/odd-even-linked-list/\n",
    "\n",
    "Note: here use even and even.next instead of odd and odd.next in while condition. We consider each odd and even as a pair and connect current pair to next pair. Using even.next can make sure that there is a next pair to connect. "
   ]
  },
  {
   "cell_type": "code",
   "execution_count": 11,
   "id": "8c505d89",
   "metadata": {},
   "outputs": [],
   "source": [
    "class Solution:\n",
    "    def oddEvenList(self, head):\n",
    "        if not head or not head.next:\n",
    "            return head\n",
    "\n",
    "        odd_head = head\n",
    "        even_head = head.next\n",
    "\n",
    "        odd, even = odd_head, even_head\n",
    "        while even and even.next:\n",
    "            odd.next = even.next\n",
    "            odd = odd.next\n",
    "            even.next = odd.next\n",
    "            even = even.next\n",
    "\n",
    "        odd.next = even_head\n",
    "        return odd_head"
   ]
  },
  {
   "cell_type": "markdown",
   "id": "0dffce8f",
   "metadata": {},
   "source": [
    "LC 19. Remove Nth Node From End of List   \n",
    "https://leetcode.com/problems/remove-nth-node-from-end-of-list/"
   ]
  },
  {
   "cell_type": "code",
   "execution_count": 14,
   "id": "2a33102b",
   "metadata": {},
   "outputs": [],
   "source": [
    "class Solution:\n",
    "    def removeNthFromEnd(self, head, n):\n",
    "        dummyhead = ListNode(-1)\n",
    "        dummyhead.next = head\n",
    "        slow, fast = dummyhead, dummyhead\n",
    "        while n and fast:\n",
    "            fast = fast.next\n",
    "            n -= 1\n",
    "        \n",
    "        while fast and fast.next:\n",
    "            slow = slow.next\n",
    "            fast = fast.next\n",
    "        \n",
    "        slow.next = slow.next.next\n",
    "        return dummyhead.next"
   ]
  },
  {
   "cell_type": "markdown",
   "id": "0333cad4",
   "metadata": {},
   "source": [
    "### Reverse Linked List"
   ]
  },
  {
   "cell_type": "markdown",
   "id": "8ff43a9f",
   "metadata": {},
   "source": [
    "Recursion approach: p.next.next = p, head.next = None\n",
    "\n",
    "Iterative approach: Need to keep track of four nodes: prev tail, curr start, curr end, next start. After reverse, connect prev tail -> curr end (new start after reverse), curr start (new end after reverse) -> next start"
   ]
  },
  {
   "cell_type": "markdown",
   "id": "82df492f",
   "metadata": {},
   "source": [
    "Reverse Partital Linked List  \n",
    "LC 92: https://leetcode.com/problems/reverse-linked-list-ii/  \n",
    "LC 25: https://leetcode.com/problems/reverse-nodes-in-k-group/"
   ]
  },
  {
   "cell_type": "code",
   "execution_count": 12,
   "id": "6d1f7e8a",
   "metadata": {},
   "outputs": [],
   "source": [
    "class Solution:\n",
    "    def reverseBetween(self, head, left, right):\n",
    "        if not head or not head.next:\n",
    "            return head\n",
    "\n",
    "        curr, prev_end = head, None\n",
    "        while curr and left > 1:\n",
    "            prev_end = curr\n",
    "            curr = curr.next\n",
    "            left -= 1\n",
    "            right -= 1\n",
    "\n",
    "        start, prev = curr, None\n",
    "        while curr and right > 0:\n",
    "            nxt = curr.next\n",
    "            curr.next = prev\n",
    "            prev = curr\n",
    "            curr = nxt\n",
    "            right -= 1\n",
    "        \n",
    "        start.next = curr\n",
    "        if prev_end:\n",
    "            prev_end.next = prev\n",
    "        else:\n",
    "            head = prev\n",
    "        return head"
   ]
  },
  {
   "cell_type": "code",
   "execution_count": 13,
   "id": "088d6b3f",
   "metadata": {},
   "outputs": [],
   "source": [
    "class Solution:\n",
    "    def reverseKGroup(self, head, k):\n",
    "        curr, prev = head, None\n",
    "        start, end = curr, curr\n",
    "        prev_tail, next_start = None, None\n",
    "        first_head = None\n",
    "\n",
    "        while curr:\n",
    "            start = curr\n",
    "            for _ in range(k - 1):\n",
    "                curr = curr.next\n",
    "                if not curr:\n",
    "                    break\n",
    "\n",
    "            if not curr:\n",
    "                if prev_tail:\n",
    "                    prev_tail.next = start\n",
    "                break\n",
    "            \n",
    "            next_start = curr.next\n",
    "    \n",
    "            reverseHead = self.reverse(start, curr)\n",
    "            if not prev_tail:\n",
    "                first_head = reverseHead\n",
    "            else:\n",
    "                prev_tail.next = reverseHead\n",
    "\n",
    "            prev_tail = start\n",
    "            curr = next_start\n",
    "\n",
    "        return first_head if first_head else head\n",
    "\n",
    "    def reverse(self, start, end):\n",
    "        curr, prev = start, None\n",
    "        while prev != end:\n",
    "            nxt = curr.next\n",
    "            curr.next = prev\n",
    "            prev = curr\n",
    "            curr = nxt\n",
    "        return prev"
   ]
  },
  {
   "cell_type": "code",
   "execution_count": null,
   "id": "5d982852",
   "metadata": {},
   "outputs": [],
   "source": []
  }
 ],
 "metadata": {
  "kernelspec": {
   "display_name": "Python 3",
   "language": "python",
   "name": "python3"
  },
  "language_info": {
   "codemirror_mode": {
    "name": "ipython",
    "version": 3
   },
   "file_extension": ".py",
   "mimetype": "text/x-python",
   "name": "python",
   "nbconvert_exporter": "python",
   "pygments_lexer": "ipython3",
   "version": "3.8.8"
  }
 },
 "nbformat": 4,
 "nbformat_minor": 5
}
